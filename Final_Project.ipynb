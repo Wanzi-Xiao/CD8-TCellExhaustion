{
 "cells": [
  {
   "cell_type": "code",
   "execution_count": 1,
   "id": "5c18eb7f",
   "metadata": {},
   "outputs": [],
   "source": [
    "# Figure 3G"
   ]
  },
  {
   "cell_type": "code",
   "execution_count": 2,
   "id": "c0570606",
   "metadata": {},
   "outputs": [],
   "source": [
    "# Plot the variance"
   ]
  },
  {
   "cell_type": "code",
   "execution_count": 3,
   "id": "2c79008f",
   "metadata": {},
   "outputs": [],
   "source": [
    "import numpy as np\n",
    "import scipy.stats as stats\n",
    "import pandas as pd"
   ]
  },
  {
   "cell_type": "code",
   "execution_count": 4,
   "id": "2ecdbd0c",
   "metadata": {},
   "outputs": [],
   "source": [
    "from statsmodels.formula.api import ols\n",
    "from statsmodels.stats.anova import anova_lm"
   ]
  },
  {
   "cell_type": "code",
   "execution_count": 6,
   "id": "ce5c65ec",
   "metadata": {},
   "outputs": [],
   "source": [
    "#load data from xls file and transfer it into a dataframe\n",
    "Data_1 = pd.ExcelFile('Paper1_figure_3G.xls')"
   ]
  },
  {
   "cell_type": "code",
   "execution_count": 8,
   "id": "97f05796",
   "metadata": {},
   "outputs": [],
   "source": [
    "df = Data_1.parse('Sheet1', skiprows=2, index_col=None, na_values=['NA'])"
   ]
  },
  {
   "cell_type": "code",
   "execution_count": 13,
   "id": "83c70f71",
   "metadata": {},
   "outputs": [
    {
     "name": "stdout",
     "output_type": "stream",
     "text": [
      "    IgG2b  anti-CD4  anti-CD8\n",
      "0  12.334    11.063     4.859\n",
      "1  10.017    11.238     5.842\n",
      "2  10.054    11.598     6.592\n",
      "3   7.440    11.355     6.613\n",
      "4  10.090    11.986       NaN\n",
      "5   9.682    11.210       NaN\n",
      "6  10.049       NaN       NaN\n"
     ]
    }
   ],
   "source": [
    "print(df)"
   ]
  },
  {
   "cell_type": "code",
   "execution_count": 40,
   "id": "ef6c78c8",
   "metadata": {},
   "outputs": [
    {
     "name": "stdout",
     "output_type": "stream",
     "text": [
      "[[12.334 11.063  4.859]\n",
      " [10.017 11.238  5.842]\n",
      " [10.054 11.598  6.592]\n",
      " [ 7.44  11.355  6.613]\n",
      " [10.09  11.986    nan]\n",
      " [ 9.682 11.21     nan]\n",
      " [10.049    nan    nan]]\n"
     ]
    }
   ],
   "source": [
    "print(df.values)"
   ]
  },
  {
   "cell_type": "code",
   "execution_count": 25,
   "id": "f468ae45",
   "metadata": {},
   "outputs": [],
   "source": [
    "colors = 'brg'"
   ]
  },
  {
   "cell_type": "code",
   "execution_count": 93,
   "id": "e83bc353",
   "metadata": {},
   "outputs": [],
   "source": [
    "import matplotlib.pyplot as plt\n",
    "from matplotlib.pyplot import MultipleLocator"
   ]
  },
  {
   "cell_type": "code",
   "execution_count": 94,
   "id": "95f9e6b4",
   "metadata": {},
   "outputs": [],
   "source": [
    "group1 = []\n",
    "group2 = []\n",
    "group3 = []"
   ]
  },
  {
   "cell_type": "code",
   "execution_count": 95,
   "id": "13afe769",
   "metadata": {},
   "outputs": [],
   "source": [
    "for ii in range(len(df.values)):\n",
    "    group1.append(\"IgG2b\")\n",
    "    group2.append(\"anti-CD4\")\n",
    "    group3.append(\"anti-CD8\")\n",
    "    \n",
    "for ii in range(len(df.values)):\n",
    "    group1.append(df.values[ii][0])\n",
    "    group2.append(df.values[ii][1])\n",
    "    group3.append(df.values[ii][2])"
   ]
  },
  {
   "cell_type": "code",
   "execution_count": 96,
   "id": "61a2451c",
   "metadata": {},
   "outputs": [
    {
     "name": "stdout",
     "output_type": "stream",
     "text": [
      "['IgG2b', 'IgG2b', 'IgG2b', 'IgG2b', 'IgG2b', 'IgG2b', 'IgG2b', 12.334, 10.017, 10.054, 7.44, 10.09, 9.682, 10.049]\n"
     ]
    }
   ],
   "source": [
    "print(group1)"
   ]
  },
  {
   "cell_type": "code",
   "execution_count": 102,
   "id": "c19427b3",
   "metadata": {},
   "outputs": [
    {
     "data": {
      "image/png": "[encoded data removed]",
      "text/plain": [
       "<Figure size 432x288 with 1 Axes>"
      ]
     },
     "metadata": {
      "needs_background": "light"
     },
     "output_type": "display_data"
    }
   ],
   "source": [
    "plt.scatter(group1[:len(df.values)],group1[len(df.values):],color='k')\n",
    "plt.scatter(group2[:len(df.values)],group2[len(df.values):],color='b')\n",
    "plt.scatter(group3[:len(df.values)],group3[len(df.values):],color='r')\n",
    "\n",
    "# Set the scale range of the y-axis to 0 to 15.\n",
    "plt.ylim([0,15])\n",
    "# Set the scale interval of the y-axis to 5 and store it in the variable\n",
    "y_major_locator = MultipleLocator(5)\n",
    "# Set the y label\n",
    "plt.ylabel('Squares',fontsize=14)\n",
    "\n",
    "ax=plt.gca()\n",
    "ax.yaxis.set_major_locator(y_major_locator)"
   ]
  },
  {
   "cell_type": "code",
   "execution_count": null,
   "id": "b7b29412",
   "metadata": {},
   "outputs": [],
   "source": []
  }
 ],
 "metadata": {
  "kernelspec": {
   "display_name": "Python 3 (ipykernel)",
   "language": "python",
   "name": "python3"
  },
  "language_info": {
   "codemirror_mode": {
    "name": "ipython",
    "version": 3
   },
   "file_extension": ".py",
   "mimetype": "text/x-python",
   "name": "python",
   "nbconvert_exporter": "python",
   "pygments_lexer": "ipython3",
   "version": "3.9.12"
  }
 },
 "nbformat": 4,
 "nbformat_minor": 5
}
