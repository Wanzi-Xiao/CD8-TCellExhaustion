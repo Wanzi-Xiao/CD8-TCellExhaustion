{
 "cells": [
  {
   "cell_type": "code",
   "execution_count": 3,
   "id": "5c18eb7f",
   "metadata": {},
   "outputs": [],
   "source": [
    "# Figure 3G"
   ]
  },
  {
   "cell_type": "code",
   "execution_count": 4,
   "id": "c0570606",
   "metadata": {},
   "outputs": [],
   "source": [
    "# Plot the variance"
   ]
  },
  {
   "cell_type": "code",
   "execution_count": 5,
   "id": "2c79008f",
   "metadata": {},
   "outputs": [],
   "source": [
    "import numpy as np\n",
    "import scipy.stats as stats\n",
    "import pandas as pd"
   ]
  },
  {
   "cell_type": "code",
   "execution_count": 6,
   "id": "2ecdbd0c",
   "metadata": {},
   "outputs": [],
   "source": [
    "from statsmodels.formula.api import ols\n",
    "from statsmodels.stats.anova import anova_lm"
   ]
  },
  {
   "cell_type": "code",
   "execution_count": 7,
   "id": "ce5c65ec",
   "metadata": {},
   "outputs": [],
   "source": [
    "#load data from xls file and transfer it into a dataframe\n",
    "Data_1 = pd.ExcelFile('Paper1_figure_3G.xls')"
   ]
  },
  {
   "cell_type": "code",
   "execution_count": 8,
   "id": "97f05796",
   "metadata": {},
   "outputs": [],
   "source": [
    "df = Data_1.parse('Sheet1', skiprows=2, index_col=None, na_values=['NA'])"
   ]
  },
  {
   "cell_type": "code",
   "execution_count": 9,
   "id": "83c70f71",
   "metadata": {},
   "outputs": [
    {
     "name": "stdout",
     "output_type": "stream",
     "text": [
      "    IgG2b  anti-CD4  anti-CD8\n",
      "0  12.334    11.063     4.859\n",
      "1  10.017    11.238     5.842\n",
      "2  10.054    11.598     6.592\n",
      "3   7.440    11.355     6.613\n",
      "4  10.090    11.986       NaN\n",
      "5   9.682    11.210       NaN\n",
      "6  10.049       NaN       NaN\n"
     ]
    }
   ],
   "source": [
    "print(df)"
   ]
  },
  {
   "cell_type": "code",
   "execution_count": 10,
   "id": "ef6c78c8",
   "metadata": {},
   "outputs": [
    {
     "name": "stdout",
     "output_type": "stream",
     "text": [
      "[[12.334 11.063  4.859]\n",
      " [10.017 11.238  5.842]\n",
      " [10.054 11.598  6.592]\n",
      " [ 7.44  11.355  6.613]\n",
      " [10.09  11.986    nan]\n",
      " [ 9.682 11.21     nan]\n",
      " [10.049    nan    nan]]\n"
     ]
    }
   ],
   "source": [
    "print(df.values)"
   ]
  },
  {
   "cell_type": "code",
   "execution_count": 11,
   "id": "f468ae45",
   "metadata": {},
   "outputs": [],
   "source": [
    "colors = 'brg'"
   ]
  },
  {
   "cell_type": "code",
   "execution_count": 12,
   "id": "e83bc353",
   "metadata": {},
   "outputs": [],
   "source": [
    "import matplotlib.pyplot as plt\n",
    "from matplotlib.pyplot import MultipleLocator"
   ]
  },
  {
   "cell_type": "code",
   "execution_count": 13,
   "id": "95f9e6b4",
   "metadata": {},
   "outputs": [],
   "source": [
    "group1 = []\n",
    "group2 = []\n",
    "group3 = []"
   ]
  },
  {
   "cell_type": "code",
   "execution_count": 14,
   "id": "13afe769",
   "metadata": {},
   "outputs": [],
   "source": [
    "for ii in range(len(df.values)):\n",
    "    group1.append(\"IgG2b\")\n",
    "    group2.append(\"anti-CD4\")\n",
    "    group3.append(\"anti-CD8\")\n",
    "    \n",
    "for ii in range(len(df.values)):\n",
    "    group1.append(df.values[ii][0])\n",
    "    group2.append(df.values[ii][1])\n",
    "    group3.append(df.values[ii][2])"
   ]
  },
  {
   "cell_type": "code",
   "execution_count": 73,
   "id": "61a2451c",
   "metadata": {},
   "outputs": [
    {
     "name": "stdout",
     "output_type": "stream",
     "text": [
      "[4.859, 5.842, 6.592, 6.613, nan, nan, nan]\n"
     ]
    }
   ],
   "source": [
    "print(group3[len(df.values)+1:])"
   ]
  },
  {
   "cell_type": "code",
   "execution_count": null,
   "id": "ca77da5a",
   "metadata": {},
   "outputs": [],
   "source": [
    "sample_mean_1 = mean()"
   ]
  },
  {
   "cell_type": "code",
   "execution_count": 74,
   "id": "c19427b3",
   "metadata": {},
   "outputs": [
    {
     "ename": "NameError",
     "evalue": "name 'y' is not defined",
     "output_type": "error",
     "traceback": [
      "\u001b[0;31m---------------------------------------------------------------------------\u001b[0m",
      "\u001b[0;31mNameError\u001b[0m                                 Traceback (most recent call last)",
      "Input \u001b[0;32mIn [74]\u001b[0m, in \u001b[0;36m<cell line: 16>\u001b[0;34m()\u001b[0m\n\u001b[1;32m     13\u001b[0m ax\u001b[38;5;241m.\u001b[39myaxis\u001b[38;5;241m.\u001b[39mset_major_locator(y_major_locator)\n\u001b[1;32m     15\u001b[0m \u001b[38;5;66;03m#set error bar\u001b[39;00m\n\u001b[0;32m---> 16\u001b[0m ax\u001b[38;5;241m.\u001b[39merrorbar(\u001b[38;5;124m\"\u001b[39m\u001b[38;5;124mIgG2b\u001b[39m\u001b[38;5;124m\"\u001b[39m, \u001b[43my\u001b[49m, yerr, fmt\u001b[38;5;241m=\u001b[39m\u001b[38;5;124m'\u001b[39m\u001b[38;5;124mo\u001b[39m\u001b[38;5;124m'\u001b[39m, linewidth\u001b[38;5;241m=\u001b[39m\u001b[38;5;241m2\u001b[39m, capsize\u001b[38;5;241m=\u001b[39m\u001b[38;5;241m6\u001b[39m)\n",
      "\u001b[0;31mNameError\u001b[0m: name 'y' is not defined"
     ]
    },
    {
     "data": {
      "image/png": "[encoded data removed]",
      "text/plain": [
       "<Figure size 432x288 with 1 Axes>"
      ]
     },
     "metadata": {
      "needs_background": "light"
     },
     "output_type": "display_data"
    }
   ],
   "source": [
    "plt.scatter(group1[:len(df.values)+1],group1[len(df.values)+1:],color='k')\n",
    "plt.scatter(group2[:len(df.values)+1],group2[len(df.values)+1:],color='b')\n",
    "plt.scatter(group3[:len(df.values)+1],group3[len(df.values)+1:],color='r')\n",
    "\n",
    "# Set the scale range of the y-axis to 0 to 15.\n",
    "plt.ylim([0,15])\n",
    "# Set the scale interval of the y-axis to 5 and store it in the variable\n",
    "y_major_locator = MultipleLocator(5)\n",
    "# Set the y label\n",
    "plt.ylabel('gMFI(*1000)',fontsize=14)\n",
    "\n",
    "ax=plt.gca()\n",
    "ax.yaxis.set_major_locator(y_major_locator)\n",
    "\n",
    "#set error bar\n",
    "ax.errorbar(\"IgG2b\", y, yerr, fmt='o', linewidth=2, capsize=6)"
   ]
  },
  {
   "cell_type": "code",
   "execution_count": 17,
   "id": "b7b29412",
   "metadata": {},
   "outputs": [],
   "source": [
    "#Figure 5C: Grouped bar chart with labels"
   ]
  },
  {
   "cell_type": "code",
   "execution_count": 18,
   "id": "f9e3deee",
   "metadata": {},
   "outputs": [],
   "source": [
    "import matplotlib.pyplot as plt\n",
    "import numpy as np"
   ]
  },
  {
   "cell_type": "code",
   "execution_count": 28,
   "id": "0a8fb016",
   "metadata": {},
   "outputs": [],
   "source": [
    "#load data from xls file and transfer it into a dataframe\n",
    "Data_3 = pd.ExcelFile('Paper1_figure_5C.xls')"
   ]
  },
  {
   "cell_type": "code",
   "execution_count": 55,
   "id": "d417edcb",
   "metadata": {},
   "outputs": [],
   "source": [
    "df = Data_3.parse('Sheet1', skiprows=2, na_values=['NA'])"
   ]
  },
  {
   "cell_type": "code",
   "execution_count": 56,
   "id": "aa352dac",
   "metadata": {},
   "outputs": [
    {
     "name": "stdout",
     "output_type": "stream",
     "text": [
      "  Unnamed: 0  21% O2  Unnamed: 2  Unnamed: 3  Unnamed: 4  1.5% O2  Unnamed: 6  \\\n",
      "0       BMDC    0.14        0.16        0.20        0.31     5.42        0.30   \n",
      "1   BMDC+SL8    5.16        4.89        5.48        7.94    33.90       36.10   \n",
      "2        TAM    0.61        0.65        5.60        1.10     1.86        1.82   \n",
      "3     2x TAM    1.23        1.14        1.49         NaN     8.08        9.66   \n",
      "4        TAM    0.22        1.33        0.31        0.26     0.20        0.24   \n",
      "5     2x TAM    0.23        0.19        0.21        0.19     0.26        0.24   \n",
      "\n",
      "   Unnamed: 7  Unnamed: 8  \n",
      "0        0.25        0.18  \n",
      "1       35.80       36.50  \n",
      "2        3.95        3.25  \n",
      "3        4.03         NaN  \n",
      "4        0.20        0.17  \n",
      "5        2.14        0.78  \n"
     ]
    }
   ],
   "source": [
    "print(df)"
   ]
  },
  {
   "cell_type": "code",
   "execution_count": 57,
   "id": "005528d9",
   "metadata": {},
   "outputs": [],
   "source": [
    "group_21 = []"
   ]
  },
  {
   "cell_type": "code",
   "execution_count": 58,
   "id": "e72418d8",
   "metadata": {},
   "outputs": [],
   "source": [
    "for i in range(len(df.values)):\n",
    "    group_21.append(df.values[i][0:5])"
   ]
  },
  {
   "cell_type": "code",
   "execution_count": 59,
   "id": "c6506f5e",
   "metadata": {},
   "outputs": [
    {
     "name": "stdout",
     "output_type": "stream",
     "text": [
      "[array(['BMDC', 0.14, 0.16, 0.2, 0.31], dtype=object), array(['BMDC+SL8', 5.16, 4.89, 5.48, 7.94], dtype=object), array(['TAM', 0.61, 0.65, 5.6, 1.1], dtype=object), array(['2x TAM', 1.23, 1.14, 1.49, nan], dtype=object), array(['TAM', 0.22, 1.33, 0.31, 0.26], dtype=object), array(['2x TAM', 0.23, 0.19, 0.21, 0.19], dtype=object)]\n"
     ]
    }
   ],
   "source": [
    "print(group_21)"
   ]
  },
  {
   "cell_type": "code",
   "execution_count": 61,
   "id": "2f1fe370",
   "metadata": {},
   "outputs": [],
   "source": [
    "group_15 = []"
   ]
  },
  {
   "cell_type": "code",
   "execution_count": 62,
   "id": "c04ded94",
   "metadata": {},
   "outputs": [],
   "source": [
    "for i in range(len(df.values)):\n",
    "    group_15.append(df.values[i][5:])"
   ]
  },
  {
   "cell_type": "code",
   "execution_count": 63,
   "id": "9762dc1a",
   "metadata": {},
   "outputs": [
    {
     "name": "stdout",
     "output_type": "stream",
     "text": [
      "[array([5.42, 0.3, 0.25, 0.18], dtype=object), array([33.9, 36.1, 35.8, 36.5], dtype=object), array([1.86, 1.82, 3.95, 3.25], dtype=object), array([8.08, 9.66, 4.03, nan], dtype=object), array([0.2, 0.24, 0.2, 0.17], dtype=object), array([0.26, 0.24, 2.14, 0.78], dtype=object)]\n"
     ]
    }
   ],
   "source": [
    "print(group_15)"
   ]
  },
  {
   "cell_type": "code",
   "execution_count": 64,
   "id": "6565bfac",
   "metadata": {},
   "outputs": [
    {
     "name": "stdout",
     "output_type": "stream",
     "text": [
      "['BMDC', 'BMDC+SL8', 'TAM', '2x TAM', 'TAM', '2x TAM']\n"
     ]
    }
   ],
   "source": [
    "labels = []\n",
    "for i in range(len(df.values)):\n",
    "    labels.append(df.values[i][0])\n",
    "print(labels)"
   ]
  },
  {
   "cell_type": "code",
   "execution_count": null,
   "id": "be1f3dab",
   "metadata": {},
   "outputs": [],
   "source": []
  }
 ],
 "metadata": {
  "kernelspec": {
   "display_name": "Python 3 (ipykernel)",
   "language": "python",
   "name": "python3"
  },
  "language_info": {
   "codemirror_mode": {
    "name": "ipython",
    "version": 3
   },
   "file_extension": ".py",
   "mimetype": "text/x-python",
   "name": "python",
   "nbconvert_exporter": "python",
   "pygments_lexer": "ipython3",
   "version": "3.9.12"
  }
 },
 "nbformat": 4,
 "nbformat_minor": 5
}
